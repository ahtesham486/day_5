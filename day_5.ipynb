{
 "cells": [
  {
   "cell_type": "markdown",
   "metadata": {},
   "source": [
    " # 15 - string operator and function"
   ]
  },
  {
   "cell_type": "code",
   "execution_count": 1,
   "metadata": {},
   "outputs": [
    {
     "name": "stdout",
     "output_type": "stream",
     "text": [
      "hello\n",
      "python\n"
     ]
    }
   ],
   "source": [
    "# strings are unchangeable\n",
    "string_hello = \"hello\"\n",
    "string_python =\"python\"\n",
    "print(string_hello)\n",
    "print(string_python)"
   ]
  },
  {
   "cell_type": "code",
   "execution_count": 3,
   "metadata": {},
   "outputs": [
    {
     "name": "stdout",
     "output_type": "stream",
     "text": [
      "pyhton is a programming language\n"
     ]
    },
    {
     "ename": "TypeError",
     "evalue": "'str' object doesn't support item deletion",
     "output_type": "error",
     "traceback": [
      "\u001b[1;31m---------------------------------------------------------------------------\u001b[0m",
      "\u001b[1;31mTypeError\u001b[0m                                 Traceback (most recent call last)",
      "\u001b[1;32mc:\\Users\\MS\\Desktop\\python basic\\day_5.ipynb Cell 3\u001b[0m line \u001b[0;36m5\n\u001b[0;32m      <a href='vscode-notebook-cell:/c%3A/Users/MS/Desktop/python%20basic/day_5.ipynb#X26sZmlsZQ%3D%3D?line=2'>3</a>\u001b[0m text\u001b[39m=\u001b[39m \u001b[39m\"\u001b[39m\u001b[39mpyhton is a programming language\u001b[39m\u001b[39m\"\u001b[39m\n\u001b[0;32m      <a href='vscode-notebook-cell:/c%3A/Users/MS/Desktop/python%20basic/day_5.ipynb#X26sZmlsZQ%3D%3D?line=3'>4</a>\u001b[0m \u001b[39mprint\u001b[39m(text)\n\u001b[1;32m----> <a href='vscode-notebook-cell:/c%3A/Users/MS/Desktop/python%20basic/day_5.ipynb#X26sZmlsZQ%3D%3D?line=4'>5</a>\u001b[0m \u001b[39mdel\u001b[39;00m text[\u001b[39m1\u001b[39;49m]\n\u001b[0;32m      <a href='vscode-notebook-cell:/c%3A/Users/MS/Desktop/python%20basic/day_5.ipynb#X26sZmlsZQ%3D%3D?line=5'>6</a>\u001b[0m \u001b[39mprint\u001b[39m(text)\n",
      "\u001b[1;31mTypeError\u001b[0m: 'str' object doesn't support item deletion"
     ]
    }
   ],
   "source": [
    "# deleting  tyhe item in a string is not supported  since are immutable\n",
    "# its return a TypeError. however the whole string can be deleted. \n",
    "text= \"pyhton is a programming language\"\n",
    "print(text)\n",
    "del text[1]\n",
    "print(text)\n"
   ]
  },
  {
   "cell_type": "code",
   "execution_count": 4,
   "metadata": {},
   "outputs": [
    {
     "name": "stdout",
     "output_type": "stream",
     "text": [
      "pyhton is a programming language\n"
     ]
    },
    {
     "ename": "NameError",
     "evalue": "name 'text' is not defined",
     "output_type": "error",
     "traceback": [
      "\u001b[1;31m---------------------------------------------------------------------------\u001b[0m",
      "\u001b[1;31mNameError\u001b[0m                                 Traceback (most recent call last)",
      "\u001b[1;32mc:\\Users\\MS\\Desktop\\python basic\\day_5.ipynb Cell 4\u001b[0m line \u001b[0;36m4\n\u001b[0;32m      <a href='vscode-notebook-cell:/c%3A/Users/MS/Desktop/python%20basic/day_5.ipynb#X25sZmlsZQ%3D%3D?line=1'>2</a>\u001b[0m \u001b[39mprint\u001b[39m(text)\n\u001b[0;32m      <a href='vscode-notebook-cell:/c%3A/Users/MS/Desktop/python%20basic/day_5.ipynb#X25sZmlsZQ%3D%3D?line=2'>3</a>\u001b[0m \u001b[39mdel\u001b[39;00m text\n\u001b[1;32m----> <a href='vscode-notebook-cell:/c%3A/Users/MS/Desktop/python%20basic/day_5.ipynb#X25sZmlsZQ%3D%3D?line=3'>4</a>\u001b[0m \u001b[39mprint\u001b[39m(text)\n",
      "\u001b[1;31mNameError\u001b[0m: name 'text' is not defined"
     ]
    }
   ],
   "source": [
    "text= \"pyhton is a programming language\"\n",
    "print(text)\n",
    "del text\n",
    "print(text)"
   ]
  },
  {
   "cell_type": "code",
   "execution_count": 5,
   "metadata": {},
   "outputs": [
    {
     "name": "stdout",
     "output_type": "stream",
     "text": [
      "hellopython\n"
     ]
    }
   ],
   "source": [
    "# ocncetanation of string \n",
    "# it combine two or more string the sign + to form a new string \n",
    "text1 =\"hello\"\n",
    "text2 =\"python\"\n",
    "new_text=text1 +  text2\n",
    "print(new_text)"
   ]
  },
  {
   "cell_type": "code",
   "execution_count": 6,
   "metadata": {},
   "outputs": [
    {
     "name": "stdout",
     "output_type": "stream",
     "text": [
      "hellopython\n"
     ]
    }
   ],
   "source": [
    "# appending (+=) adds a new string the end of the current string  \n",
    "text1=\"hello\"\n",
    "text2=\"python\"\n",
    "text1+=text2\n",
    "print(text1)"
   ]
  },
  {
   "cell_type": "code",
   "execution_count": 7,
   "metadata": {},
   "outputs": [
    {
     "name": "stdout",
     "output_type": "stream",
     "text": [
      "hello pythonhello pythonhello pythonhello python\n"
     ]
    }
   ],
   "source": [
    "# to repeat a string, the muliplication (*) operator is used\n",
    "text=\"hello python\"\n",
    "print(text*4)\n"
   ]
  },
  {
   "cell_type": "code",
   "execution_count": 9,
   "metadata": {},
   "outputs": [
    {
     "name": "stdout",
     "output_type": "stream",
     "text": [
      "hello\n",
      "o\n",
      "python \n",
      "python\n"
     ]
    }
   ],
   "source": [
    "# acessing the item by indexing \n",
    "text = \"hello python \"\n",
    "print(text[0:5])\n",
    "print(text[4])\n",
    "print(text[-7:])\n",
    "print(text[-7:-1])"
   ]
  },
  {
   "cell_type": "code",
   "execution_count": 14,
   "metadata": {},
   "outputs": [
    {
     "name": "stdout",
     "output_type": "stream",
     "text": [
      "13\n",
      "hello python \n",
      "hlopto \n",
      "hlph \n"
     ]
    }
   ],
   "source": [
    "# # striding  in slicing\n",
    "# The third parameter specifies the stride, which refers to how many characters to move forward after the first\n",
    "# character is retrieved from the string\n",
    "\n",
    "\n",
    "text = \"hello python \"\n",
    "print(len(text))\n",
    "print(text[:14]) # default stride value  is 1\n",
    "print(text[0:14:2])\n",
    "print(text[::3])\n"
   ]
  },
  {
   "cell_type": "code",
   "execution_count": 15,
   "metadata": {},
   "outputs": [
    {
     "name": "stdout",
     "output_type": "stream",
     "text": [
      "nohtyp olleh\n"
     ]
    }
   ],
   "source": [
    "# reverse string\n",
    "text=\"hello python\"\n",
    "print(text[::-1])"
   ]
  },
  {
   "cell_type": "code",
   "execution_count": 17,
   "metadata": {},
   "outputs": [
    {
     "name": "stdout",
     "output_type": "stream",
     "text": [
      "True\n",
      "False\n",
      "True\n",
      "False\n"
     ]
    }
   ],
   "source": [
    "# in and not  in \n",
    "text = \"Hello Python\"\n",
    "print('H' in text)\n",
    "print('H' not in text)\n",
    "print('c' not in text)\n",
    "print('c' in text)"
   ]
  },
  {
   "cell_type": "code",
   "execution_count": null,
   "metadata": {},
   "outputs": [],
   "source": [
    "# string functions in python \n"
   ]
  },
  {
   "cell_type": "code",
   "execution_count": 22,
   "metadata": {},
   "outputs": [
    {
     "name": "stdout",
     "output_type": "stream",
     "text": [
      "before capitalizing: hello pyhton\n",
      "after capitalizing : Hello pyhton\n"
     ]
    }
   ],
   "source": [
    "# capitalize() function\n",
    "text = \"hello pyhton\"\n",
    "print(f\"before capitalizing: {text}\")\n",
    "text=text.capitalize()\n",
    "print(f\"after capitalizing : {text}\")\n"
   ]
  },
  {
   "cell_type": "code",
   "execution_count": 24,
   "metadata": {},
   "outputs": [
    {
     "name": "stdout",
     "output_type": "stream",
     "text": [
      "before capitalizing: Hello Pyhton\n",
      "after capitalizing : hello pyhton\n"
     ]
    }
   ],
   "source": [
    "# casefold() function\n",
    "# it convert the characters in certain string into lower case \n",
    "\n",
    "text = \"Hello Pyhton\"\n",
    "print(f\"before capitalizing: {text}\")\n",
    "text=text.casefold()\n",
    "print(f\"after capitalizing : {text}\")\n"
   ]
  },
  {
   "cell_type": "code",
   "execution_count": 25,
   "metadata": {},
   "outputs": [
    {
     "name": "stdout",
     "output_type": "stream",
     "text": [
      "before  center function(): hello python \n",
      "after center function() :                   hello python                    \n"
     ]
    }
   ],
   "source": [
    "# center function \n",
    "text = \"hello python \"\n",
    "print(f\"before  center function(): {text}\")\n",
    "text = text.center(50)\n",
    "print(f\"after center function() : {text}\")"
   ]
  },
  {
   "cell_type": "code",
   "execution_count": 26,
   "metadata": {},
   "outputs": [
    {
     "name": "stdout",
     "output_type": "stream",
     "text": [
      "after center function() : ___________________hello python___________________\n"
     ]
    }
   ],
   "source": [
    "new_text=\"hello python\"\n",
    "new_text = new_text.center(50,'_')\n",
    "print(f\"after center function() : {new_text}\")"
   ]
  },
  {
   "cell_type": "code",
   "execution_count": 1,
   "metadata": {},
   "outputs": [
    {
     "name": "stdout",
     "output_type": "stream",
     "text": [
      "the number of charcater 'o' in the string is2\n"
     ]
    }
   ],
   "source": [
    "#count() function\n",
    "# it return the number of a certain character in a string \n",
    "text = \"Hello Python\"\n",
    "print(f\"the number of charcater 'o' in the string is{text.count('o')}\")"
   ]
  },
  {
   "cell_type": "code",
   "execution_count": 2,
   "metadata": {},
   "outputs": [
    {
     "name": "stdout",
     "output_type": "stream",
     "text": [
      "True\n"
     ]
    }
   ],
   "source": [
    "#  endswith function\n",
    "# it return true if the string ends with a certain value\n",
    "\n",
    "text = \"hello python\"\n",
    "text = text.endswith(\"python\")\n",
    "print(text)"
   ]
  },
  {
   "cell_type": "code",
   "execution_count": 3,
   "metadata": {},
   "outputs": [
    {
     "name": "stdout",
     "output_type": "stream",
     "text": [
      "6\n",
      "-1\n"
     ]
    }
   ],
   "source": [
    "# find() function \n",
    "# it investigate the string for a certain vaalue and return the position of where it was found \n",
    "text =\"hello python\"\n",
    "print(text.find(\"python\"))\n",
    "print(text.find(\"world\"))"
   ]
  },
  {
   "cell_type": "code",
   "execution_count": 7,
   "metadata": {},
   "outputs": [
    {
     "name": "stdout",
     "output_type": "stream",
     "text": [
      "hello world! and hi python\n",
      "hello world and hi python\n",
      "hello python and hi world\n"
     ]
    }
   ],
   "source": [
    "# # format() function\n",
    "# It formats the specified value(s) and insert them inside the string's placeholder.\n",
    "# The placeholder is defined using curly brackets: {} \n",
    "\n",
    "text = \"hello {} and hi {}\".format(\"world!\" ,\"python\")\n",
    "print(text)\n",
    "text = \"hello {world} and hi {python}\".format(world = \"world\" , python = \"python\")\n",
    "print(text)\n",
    "text = \"hello {1} and hi {0}\".format(\"world\" , \"python\")\n",
    "print(text)"
   ]
  },
  {
   "cell_type": "code",
   "execution_count": 8,
   "metadata": {},
   "outputs": [
    {
     "ename": "ValueError",
     "evalue": "substring not found",
     "output_type": "error",
     "traceback": [
      "\u001b[1;31m---------------------------------------------------------------------------\u001b[0m",
      "\u001b[1;31mValueError\u001b[0m                                Traceback (most recent call last)",
      "\u001b[1;32mc:\\Users\\MS\\Desktop\\python basic\\day_5.ipynb Cell 21\u001b[0m line \u001b[0;36m3\n\u001b[0;32m      <a href='vscode-notebook-cell:/c%3A/Users/MS/Desktop/python%20basic/day_5.ipynb#X26sZmlsZQ%3D%3D?line=0'>1</a>\u001b[0m \u001b[39m# index function\u001b[39;00m\n\u001b[0;32m      <a href='vscode-notebook-cell:/c%3A/Users/MS/Desktop/python%20basic/day_5.ipynb#X26sZmlsZQ%3D%3D?line=1'>2</a>\u001b[0m text \u001b[39m=\u001b[39m \u001b[39m\"\u001b[39m\u001b[39mhello python\u001b[39m\u001b[39m\"\u001b[39m\n\u001b[1;32m----> <a href='vscode-notebook-cell:/c%3A/Users/MS/Desktop/python%20basic/day_5.ipynb#X26sZmlsZQ%3D%3D?line=2'>3</a>\u001b[0m \u001b[39mprint\u001b[39m(text\u001b[39m.\u001b[39;49mindex(\u001b[39m\"\u001b[39;49m\u001b[39mpyhton\u001b[39;49m\u001b[39m\"\u001b[39;49m))\n\u001b[0;32m      <a href='vscode-notebook-cell:/c%3A/Users/MS/Desktop/python%20basic/day_5.ipynb#X26sZmlsZQ%3D%3D?line=3'>4</a>\u001b[0m \u001b[39mprint\u001b[39m(text\u001b[39m.\u001b[39mindex(\u001b[39m\"\u001b[39m\u001b[39mhello\u001b[39m\u001b[39m\"\u001b[39m))\n\u001b[0;32m      <a href='vscode-notebook-cell:/c%3A/Users/MS/Desktop/python%20basic/day_5.ipynb#X26sZmlsZQ%3D%3D?line=4'>5</a>\u001b[0m \u001b[39mprint\u001b[39m(text\u001b[39m.\u001b[39mindex(\u001b[39m\"\u001b[39m\u001b[39mhi\u001b[39m\u001b[39m\"\u001b[39m))\n",
      "\u001b[1;31mValueError\u001b[0m: substring not found"
     ]
    }
   ],
   "source": [
    "# index function\n",
    "text = \"hello python\"\n",
    "print(text.index(\"pyhton\"))\n",
    "print(text.index(\"hello\"))\n",
    "print(text.index(\"hi\")) # if the value dosent find it give the  value error"
   ]
  },
  {
   "cell_type": "code",
   "execution_count": 10,
   "metadata": {},
   "outputs": [
    {
     "name": "stdout",
     "output_type": "stream",
     "text": [
      "False\n",
      "True\n"
     ]
    }
   ],
   "source": [
    "# isalnum function \n",
    "# it return the true if all character in the string are alphanumeric\n",
    "text =\"hello pyhton \"\n",
    "print(text.isalnum())\n",
    "msg=\"hello1358\"\n",
    "print(msg.isalnum())"
   ]
  },
  {
   "cell_type": "code",
   "execution_count": 11,
   "metadata": {},
   "outputs": [
    {
     "name": "stdout",
     "output_type": "stream",
     "text": [
      "True\n",
      "False\n",
      "False\n"
     ]
    }
   ],
   "source": [
    "#isaplha() function\n",
    "# it return true if all he character  in the string \n",
    "text = 'Hello'\n",
    "print(text.isalpha())\n",
    "text = 'Hello1358' # The text contains numbers.\n",
    "print(text.isalpha())\n",
    "text = 'Hello Python!' # The text contains a white space.\n",
    "print(text.isalpha())"
   ]
  },
  {
   "cell_type": "code",
   "execution_count": 12,
   "metadata": {},
   "outputs": [
    {
     "name": "stdout",
     "output_type": "stream",
     "text": [
      "False\n",
      "True\n"
     ]
    }
   ],
   "source": [
    "# isdecimal() function\n",
    "# It returns True if all the characters in the given string are decimal numbers ( 0-9) \n",
    "\n",
    "text = 'Hello'\n",
    "print(text.isdecimal())\n",
    "numbered_text = '011235813'\n",
    "print(numbered_text.isdecimal())"
   ]
  },
  {
   "cell_type": "code",
   "execution_count": 14,
   "metadata": {},
   "outputs": [
    {
     "name": "stdout",
     "output_type": "stream",
     "text": [
      "True\n"
     ]
    }
   ],
   "source": [
    "# isdigit() function\n",
    "# This function returns True if all the characters in the string and the Unicode characters are digits \n",
    "\n",
    "numbered_text = \"01234556789\"\n",
    "print(numbered_text.isdigit())"
   ]
  },
  {
   "cell_type": "code",
   "execution_count": 15,
   "metadata": {},
   "outputs": [
    {
     "name": "stdout",
     "output_type": "stream",
     "text": [
      "True\n",
      "False\n",
      "True\n"
     ]
    }
   ],
   "source": [
    "# isprintable() function\n",
    "# It returns True if all the characters in the string are printable features\n",
    "text = 'Hello, Python!'\n",
    "print(text.isprintable())\n",
    "new_text = 'Hello, \\n Python!'\n",
    "print(new_text.isprintable())\n",
    "space = ' '\n",
    "print(space.isprintable())"
   ]
  },
  {
   "cell_type": "code",
   "execution_count": 17,
   "metadata": {},
   "outputs": [
    {
     "name": "stdout",
     "output_type": "stream",
     "text": [
      "False\n",
      "True\n"
     ]
    }
   ],
   "source": [
    "# isspace() function\n",
    "# It returns True if all the characters in the string are whitespaces.\n",
    "text = \"hello python\"\n",
    "print(text.isspace())\n",
    "space= \"  \"\n",
    "print(space.isspace())"
   ]
  },
  {
   "cell_type": "code",
   "execution_count": 21,
   "metadata": {},
   "outputs": [
    {
     "name": "stdout",
     "output_type": "stream",
     "text": [
      "False\n",
      "True\n"
     ]
    }
   ],
   "source": [
    "# islower() and lower() functions\n",
    "# The function islower() returns True if all the characters in the string are lower case, on the contrary False.\n",
    "# The function lower() converts the certain string to lower case.\n",
    "text = \"Hello Python\"\n",
    "print(text.islower())\n",
    "text=text.lower()\n",
    "print(text.islower())\n"
   ]
  },
  {
   "cell_type": "code",
   "execution_count": 23,
   "metadata": {},
   "outputs": [
    {
     "name": "stdout",
     "output_type": "stream",
     "text": [
      "False\n",
      "True\n"
     ]
    }
   ],
   "source": [
    "# isupper() and upper() functions\n",
    "# The function isupper() returns True if all the characters in the string are upper case, on the contrary False.\n",
    "# The function upper() converts the string to uppercase.\n",
    "text = \"Hello Python\"\n",
    "print(text.isupper())\n",
    "text=text.upper()\n",
    "print(text.isupper())\n",
    "\n"
   ]
  },
  {
   "cell_type": "code",
   "execution_count": 24,
   "metadata": {},
   "outputs": [
    {
     "name": "stdout",
     "output_type": "stream",
     "text": [
      "Hello#World#Hi#Python\n",
      "Hello+World+Hi+Python\n",
      "Hello--World--Hi--Python\n",
      "val1--val2--val3--val4\n"
     ]
    }
   ],
   "source": [
    "\n",
    "# join() function\n",
    "# It takes all items in an iterable and joins them into one string.\n",
    "# A string must be specified as the separator \n",
    "\n",
    "text_list = ['Hello', 'World', 'Hi', 'Python']\n",
    "print('#'. join(text_list))\n",
    "text_tuple = ('Hello', 'World', 'Hi', 'Python')\n",
    "print('+'. join(text_tuple))\n",
    "text_set = {'Hello', 'World', 'Hi', 'Python'}\n",
    "print('--'. join(text_set))\n",
    "text_dict = {'val1': 'Hello', 'val2': 'World', 'val3': 'Hi', 'val4': 'Python'}\n",
    "print('--'. join(text_dict))"
   ]
  },
  {
   "cell_type": "code",
   "execution_count": 25,
   "metadata": {},
   "outputs": [
    {
     "name": "stdout",
     "output_type": "stream",
     "text": [
      "python________________________ is programming language\n"
     ]
    }
   ],
   "source": [
    "# ljust() function\n",
    "# It returns the left justified version of the certain string.\n",
    "text = \"python\"\n",
    "text =text.ljust(30 ,\"_\")\n",
    "print(text , \"is programming language\")"
   ]
  },
  {
   "cell_type": "code",
   "execution_count": 26,
   "metadata": {},
   "outputs": [
    {
     "name": "stdout",
     "output_type": "stream",
     "text": [
      "------------------------Python is my favorite programming language.\n"
     ]
    }
   ],
   "source": [
    "# rjust() function\n",
    "# It returns the right justified version of the certain string.\n",
    "\n",
    "\n",
    "text = 'Python'\n",
    "text = text.rjust(30, '-')\n",
    "print(text, 'is my favorite programming language.')"
   ]
  },
  {
   "cell_type": "code",
   "execution_count": 31,
   "metadata": {},
   "outputs": [
    {
     "name": "stdout",
     "output_type": "stream",
     "text": [
      "Hello Python! \n"
     ]
    }
   ],
   "source": [
    "# # lstrip() function\n",
    "# It removes characters from the left based on the argument (a string specifying the set of characters to be\n",
    "# removed)\n",
    "text ='              Hello Python!              '\n",
    "\n",
    "print(text.lstrip()) \n"
   ]
  },
  {
   "cell_type": "code",
   "execution_count": 32,
   "metadata": {},
   "outputs": [
    {
     "name": "stdout",
     "output_type": "stream",
     "text": [
      "              Hello Python!\n"
     ]
    }
   ],
   "source": [
    "# rstrip() function\n",
    "# it remove the left sapce\n",
    "\n",
    "text ='              Hello Python!              '\n",
    "\n",
    "print(text.lstrip()) "
   ]
  },
  {
   "cell_type": "code",
   "execution_count": 33,
   "metadata": {},
   "outputs": [
    {
     "name": "stdout",
     "output_type": "stream",
     "text": [
      "Hello Python!\n"
     ]
    }
   ],
   "source": [
    "# strip function \n",
    "# it remove the both spaces \n",
    "\n",
    "text ='              Hello Python!              '\n",
    "\n",
    "print(text.strip()) "
   ]
  },
  {
   "cell_type": "code",
   "execution_count": 34,
   "metadata": {},
   "outputs": [
    {
     "name": "stdout",
     "output_type": "stream",
     "text": [
      "JavaScript is a programming language.\n",
      "Python is a programming language.\n"
     ]
    }
   ],
   "source": [
    "# replace function \n",
    "text = 'JavaScript is a programming language.'\n",
    "print(text)\n",
    "modified_text = text.replace('JavaScript', 'Python', 1)\n",
    "print(modified_text)\n"
   ]
  },
  {
   "cell_type": "code",
   "execution_count": 35,
   "metadata": {},
   "outputs": [
    {
     "name": "stdout",
     "output_type": "stream",
     "text": [
      "Jython is a programming language.\n",
      "Python is a programming language.\n"
     ]
    }
   ],
   "source": [
    "text = 'Jython is a programming language.'\n",
    "print(text)\n",
    "modified_text = text.replace('J', 'P')\n",
    "print(modified_text)\n"
   ]
  },
  {
   "cell_type": "code",
   "execution_count": null,
   "metadata": {},
   "outputs": [],
   "source": [
    "# partition  function \n",
    "text = 'Hello World!, Hi Python!'\n",
    "print(text.partition('Hi'))\n"
   ]
  },
  {
   "cell_type": "code",
   "execution_count": 36,
   "metadata": {},
   "outputs": [
    {
     "name": "stdout",
     "output_type": "stream",
     "text": [
      "'Python' is in the position 7.\n",
      "'my' is in the position 17.\n",
      "'close' is in the position -1.\n"
     ]
    }
   ],
   "source": [
    "# rindex functiom \n",
    "# The rindex() method finds the last occurrence of the specified value.\n",
    "\n",
    "text = 'Hello, Python is my favorite programming language.'\n",
    "print(f\"'Python' is in the position {text.rfind('Python')}.\")\n",
    "print(f\"'my' is in the position {text.rfind('my')}.\")\n",
    "print(f\"'close' is in the position {text.rfind('close')}.\")\n",
    "# close is not find that why is give the xero value"
   ]
  },
  {
   "cell_type": "code",
   "execution_count": 37,
   "metadata": {},
   "outputs": [
    {
     "name": "stdout",
     "output_type": "stream",
     "text": [
      "hELLO pYTHON!\n",
      "Hello Python!\n"
     ]
    }
   ],
   "source": [
    "# swapcase() function \n",
    "# This function converts the uppercase characters into lowercase and vice versa\n",
    "\n",
    "text = 'Hello Python!'\n",
    "print(text.swapcase())\n",
    "text = 'hELLO pYTHON!'\n",
    "print(text.swapcase())"
   ]
  },
  {
   "cell_type": "code",
   "execution_count": 38,
   "metadata": {},
   "outputs": [
    {
     "name": "stdout",
     "output_type": "stream",
     "text": [
      "Hello World, Hi Python!\n"
     ]
    }
   ],
   "source": [
    "# title() function\n",
    "# This function converts the first character in the given string into uppercase.\n",
    "\n",
    "text = 'hello world, hi python!'\n",
    "print(text.title())"
   ]
  },
  {
   "cell_type": "code",
   "execution_count": null,
   "metadata": {},
   "outputs": [],
   "source": []
  },
  {
   "cell_type": "code",
   "execution_count": null,
   "metadata": {},
   "outputs": [],
   "source": []
  },
  {
   "cell_type": "code",
   "execution_count": null,
   "metadata": {},
   "outputs": [],
   "source": []
  },
  {
   "cell_type": "code",
   "execution_count": null,
   "metadata": {},
   "outputs": [],
   "source": []
  },
  {
   "cell_type": "code",
   "execution_count": null,
   "metadata": {},
   "outputs": [],
   "source": []
  },
  {
   "cell_type": "code",
   "execution_count": null,
   "metadata": {},
   "outputs": [],
   "source": []
  },
  {
   "cell_type": "code",
   "execution_count": null,
   "metadata": {},
   "outputs": [],
   "source": []
  }
 ],
 "metadata": {
  "kernelspec": {
   "display_name": "Python 3",
   "language": "python",
   "name": "python3"
  },
  "language_info": {
   "codemirror_mode": {
    "name": "ipython",
    "version": 3
   },
   "file_extension": ".py",
   "mimetype": "text/x-python",
   "name": "python",
   "nbconvert_exporter": "python",
   "pygments_lexer": "ipython3",
   "version": "3.11.6"
  },
  "orig_nbformat": 4
 },
 "nbformat": 4,
 "nbformat_minor": 2
}
